{
 "cells": [
  {
   "cell_type": "markdown",
   "id": "54807471",
   "metadata": {},
   "source": [
    "# RNA-seq Deferential Expression and Gene Ontology Analysis Pipeline"
   ]
  },
  {
   "cell_type": "markdown",
   "id": "2d2d008b",
   "metadata": {},
   "source": [
    "## Setup 0: Create Timestamped Output Directory"
   ]
  },
  {
   "cell_type": "code",
   "execution_count": null,
   "id": "c27c0f89",
   "metadata": {
    "vscode": {
     "languageId": "r"
    }
   },
   "outputs": [
    {
     "name": "stdout",
     "output_type": "stream",
     "text": [
      "[1] \"Output for this run will be saved to: C:/Users/KimYG/Documents/GitHub/RNA-Seq_DE_GO_analysis/output/2025-10-10_16-56-42\"\n"
     ]
    }
   ],
   "source": [
    "# Load config\n",
    "library(yaml)\n",
    "library(here)\n",
    "\n",
    "config_path <- here(\"config.yml\")\n",
    "\n",
    "# 2. 파일이 실제로 존재하는지 확인하고, 없으면 명확한 에러 메시지를 출력합니다.\n",
    "if (!file.exists(config_path)) {\n",
    "  stop(paste(\"Config file not found! R is looking for it here:\", normalizePath(config_path)))\n",
    "}\n",
    "# 3. 설정 파일을 로드합니다.\n",
    "config <- yaml.load_file(config_path)\n",
    "\n",
    "# Create a timestamped output directory for this run\n",
    "timestamp <- format(Sys.time(), \"%Y-%m-%d_%H-%M-%S\")\n",
    "output_path <- here(config$output_dir, timestamp)\n",
    "dir.create(output_path, recursive = TRUE)\n",
    "\n",
    "# This 'output_path' variable will be used by the subsequent R scripts\n",
    "print(paste(\"Output for this run will be saved to:\", output_path))"
   ]
  },
  {
   "cell_type": "markdown",
   "id": "ed3a6e35",
   "metadata": {},
   "source": [
    "## Step 1: Run Differential Expression(DE) Analysis"
   ]
  },
  {
   "cell_type": "code",
   "execution_count": 12,
   "id": "6f12e4f5",
   "metadata": {
    "vscode": {
     "languageId": "r"
    }
   },
   "outputs": [
    {
     "name": "stdout",
     "output_type": "stream",
     "text": [
      "Running DGE analysis using method: DESeq2 \n"
     ]
    },
    {
     "name": "stderr",
     "output_type": "stream",
     "text": [
      "converting counts to integer mode\n",
      "\n",
      "Warning message in DESeqDataSet(se, design = design, ignoreRank):\n",
      "\"some variables in design formula are characters, converting to factors\"\n",
      "estimating size factors\n",
      "\n",
      "estimating dispersions\n",
      "\n",
      "gene-wise dispersion estimates\n",
      "\n",
      "mean-dispersion relationship\n",
      "\n",
      "final dispersion estimates\n",
      "\n",
      "fitting model and testing\n",
      "\n",
      "'select()' returned 1:many mapping between keys and columns\n",
      "\n"
     ]
    },
    {
     "name": "stdout",
     "output_type": "stream",
     "text": [
      "[1] \"Combined results saved to: C:/Users/KimYG/Documents/GitHub/RNA-Seq_DE_GO_analysis/output/2025-10-10_16-56-42/final_de_results.csv\"\n",
      "[1] \"Excel file also saved to: C:/Users/KimYG/Documents/GitHub/RNA-Seq_DE_GO_analysis/output/2025-10-10_16-56-42/final_de_results.xlsx\"\n",
      "[1] \"Copied config file to output directory for reproducibility.\"\n",
      "[1] \"DESeq2 analysis and result saving process finished.\"\n"
     ]
    }
   ],
   "source": [
    "source(here(\"src\", \"analysis\", \"01_run_de_analysis.R\"))"
   ]
  },
  {
   "cell_type": "markdown",
   "id": "0a3842d6",
   "metadata": {},
   "source": [
    "## Step 2: Generate Visualization Plots"
   ]
  },
  {
   "cell_type": "code",
   "execution_count": 13,
   "id": "e8da6b7e",
   "metadata": {
    "vscode": {
     "languageId": "r"
    }
   },
   "outputs": [
    {
     "name": "stdout",
     "output_type": "stream",
     "text": [
      "\n",
      "Generating PCA plot based on data prepared for: DESeq2 \n"
     ]
    },
    {
     "name": "stderr",
     "output_type": "stream",
     "text": [
      "converting counts to integer mode\n",
      "\n",
      "Warning message in DESeqDataSet(se, design = design, ignoreRank):\n",
      "\"some variables in design formula are characters, converting to factors\"\n",
      "using ntop=500 top features by variance\n",
      "\n",
      "\u001b[1m\u001b[22mSaving 7 x 7 in image\n"
     ]
    },
    {
     "name": "stdout",
     "output_type": "stream",
     "text": [
      "[1] \"PCA plot saved.\"\n"
     ]
    },
    {
     "name": "stderr",
     "output_type": "stream",
     "text": [
      "Warning message:\n",
      "\"\u001b[1m\u001b[22mRemoved 22611 rows containing missing values or values outside the scale range\n",
      "(`geom_point()`).\"\n"
     ]
    },
    {
     "name": "stdout",
     "output_type": "stream",
     "text": [
      "[1] \"Volcano plot saved.\"\n"
     ]
    }
   ],
   "source": [
    "# here()를 사용해 스크립트의 전체 경로를 지정합니다.\n",
    "source(here(\"src\", \"analysis\", \"02_generate_plots.R\"))"
   ]
  },
  {
   "cell_type": "markdown",
   "id": "a2d3a677",
   "metadata": {},
   "source": [
    "## Step 3: Perform Enrichment Analysis (GO & KEGG)"
   ]
  },
  {
   "cell_type": "code",
   "execution_count": 15,
   "id": "51fa61f9",
   "metadata": {
    "vscode": {
     "languageId": "r"
    }
   },
   "outputs": [
    {
     "name": "stdout",
     "output_type": "stream",
     "text": [
      "Starting enrichment analysis based on config settings...\n",
      "\n",
      "--- Preparing gene list for: total regulated genes ---\n"
     ]
    },
    {
     "name": "stderr",
     "output_type": "stream",
     "text": [
      "'select()' returned 1:many mapping between keys and columns\n",
      "\n"
     ]
    },
    {
     "name": "stdout",
     "output_type": "stream",
     "text": [
      "Running GO analysis for total genes, Ontology: BP \n",
      "Running KEGG analysis for total genes\n",
      "\n",
      "--- Preparing gene list for: up regulated genes ---\n"
     ]
    },
    {
     "name": "stderr",
     "output_type": "stream",
     "text": [
      "'select()' returned 1:many mapping between keys and columns\n",
      "\n"
     ]
    },
    {
     "name": "stdout",
     "output_type": "stream",
     "text": [
      "Running GO analysis for up genes, Ontology: BP \n",
      "Running KEGG analysis for up genes\n",
      "\n",
      "--- Preparing gene list for: down regulated genes ---\n"
     ]
    },
    {
     "name": "stderr",
     "output_type": "stream",
     "text": [
      "'select()' returned 1:many mapping between keys and columns\n",
      "\n"
     ]
    },
    {
     "name": "stdout",
     "output_type": "stream",
     "text": [
      "Running GO analysis for down genes, Ontology: BP \n",
      "Running KEGG analysis for down genes\n",
      "\n",
      "Enrichment analysis pipeline finished successfully! 🚀\n"
     ]
    }
   ],
   "source": [
    "# here()를 사용해 스크립트의 전체 경로를 지정합니다.\n",
    "source(here(\"src\", \"analysis\", \"03_enrichment_analysis.R\"))"
   ]
  },
  {
   "cell_type": "markdown",
   "id": "b64c4a7e",
   "metadata": {},
   "source": [
    "## Step 4: Generate GO Bar Plots"
   ]
  },
  {
   "cell_type": "code",
   "execution_count": 22,
   "id": "2b5fd2cc",
   "metadata": {
    "vscode": {
     "languageId": "r"
    }
   },
   "outputs": [
    {
     "name": "stdout",
     "output_type": "stream",
     "text": [
      "\n",
      "--- Running Step 4: Generating GO Bar Plots ---\n",
      "\n",
      "Processing gene set: total \n",
      "Successfully generated and saved: C:/Users/KimYG/Documents/GitHub/DESeq2_GO_analysis/output/2025-10-04_11-59-19/go_barplot_total.png \n",
      "\n",
      "Processing gene set: up \n",
      "Successfully generated and saved: C:/Users/KimYG/Documents/GitHub/DESeq2_GO_analysis/output/2025-10-04_11-59-19/go_barplot_up.png \n",
      "\n",
      "Processing gene set: down \n",
      "Successfully generated and saved: C:/Users/KimYG/Documents/GitHub/DESeq2_GO_analysis/output/2025-10-04_11-59-19/go_barplot_down.png \n",
      "\n",
      "--- GO Bar Plot generation finished. ---\n"
     ]
    }
   ],
   "source": [
    "source(here::here(\"src\", \"analysis\", \"04_generate_go_plots.R\"))"
   ]
  }
 ],
 "metadata": {
  "kernelspec": {
   "display_name": "R",
   "language": "R",
   "name": "ir"
  },
  "language_info": {
   "codemirror_mode": "r",
   "file_extension": ".r",
   "mimetype": "text/x-r-source",
   "name": "R",
   "pygments_lexer": "r",
   "version": "4.5.1"
  }
 },
 "nbformat": 4,
 "nbformat_minor": 5
}
